{
  "cells": [
    {
      "cell_type": "code",
      "execution_count": null,
      "metadata": {
        "colab": {
          "base_uri": "https://localhost:8080/"
        },
        "id": "PyceelkVFOuY",
        "outputId": "b2eaad78-964e-45eb-bb59-72cd85f48c00"
      },
      "outputs": [
        {
          "name": "stderr",
          "output_type": "stream",
          "text": [
            "[nltk_data] Downloading package stopwords to /root/nltk_data...\n",
            "[nltk_data]   Package stopwords is already up-to-date!\n"
          ]
        }
      ],
      "source": [
        "import tensorflow as tf\n",
        "from tensorflow.keras.preprocessing.text import Tokenizer\n",
        "from tensorflow.keras.preprocessing.sequence import pad_sequences\n",
        "from tensorflow.keras.models import Sequential\n",
        "from tensorflow.keras.layers import Embedding, LSTM, Dense\n",
        "import numpy as np\n",
        "import pandas as pd\n",
        "import nltk\n",
        "nltk.download('stopwords')\n",
        "from nltk.corpus import stopwords\n",
        "from nltk.stem import SnowballStemmer"
      ]
    },
    {
      "cell_type": "code",
      "execution_count": null,
      "metadata": {
        "colab": {
          "base_uri": "https://localhost:8080/",
          "height": 565
        },
        "id": "IlNn4bqfgifd",
        "outputId": "629db957-9b53-4ef0-8841-14aab340e2cd"
      },
      "outputs": [
        {
          "name": "stderr",
          "output_type": "stream",
          "text": [
            "<ipython-input-32-38855e919ff3>:3: FutureWarning: Passing a negative integer is deprecated in version 1.0 and will not be supported in future version. Instead, use None to not limit the column width.\n",
            "  pd.set_option('display.max_colwidth',-1)\n"
          ]
        },
        {
          "data": {
            "text/html": [
              "\n",
              "  <div id=\"df-a8809d2b-d9ad-4f76-9a6c-a82cffdb2ad2\">\n",
              "    <div class=\"colab-df-container\">\n",
              "      <div>\n",
              "<style scoped>\n",
              "    .dataframe tbody tr th:only-of-type {\n",
              "        vertical-align: middle;\n",
              "    }\n",
              "\n",
              "    .dataframe tbody tr th {\n",
              "        vertical-align: top;\n",
              "    }\n",
              "\n",
              "    .dataframe thead th {\n",
              "        text-align: right;\n",
              "    }\n",
              "</style>\n",
              "<table border=\"1\" class=\"dataframe\">\n",
              "  <thead>\n",
              "    <tr style=\"text-align: right;\">\n",
              "      <th></th>\n",
              "      <th>ID</th>\n",
              "      <th>Sentence1</th>\n",
              "      <th>Sentence2</th>\n",
              "      <th>Class</th>\n",
              "    </tr>\n",
              "  </thead>\n",
              "  <tbody>\n",
              "    <tr>\n",
              "      <th>0</th>\n",
              "      <td>0</td>\n",
              "      <td>But instead of returning to heaven , Annie decided to join Chris in hell forever .</td>\n",
              "      <td>But instead of returning to Heaven , Chris chooses to join Annie forever in Hell .</td>\n",
              "      <td>0</td>\n",
              "    </tr>\n",
              "    <tr>\n",
              "      <th>1</th>\n",
              "      <td>1</td>\n",
              "      <td>In 2016 , Bacardi announced new branding and plans to sell their version of Havana Club nationally , which will be burned in Florida and bottled in Puerto Rico .</td>\n",
              "      <td>In 2016 , Bacardi announced new branding and plans to sell their version of Havana Club nationally , which will be distilled in Puerto Rico and bottled in Florida .</td>\n",
              "      <td>0</td>\n",
              "    </tr>\n",
              "    <tr>\n",
              "      <th>2</th>\n",
              "      <td>2</td>\n",
              "      <td>Kweku Baako Jnr had four children . One of them , Baako is a journalist and editor of the `` New Crusading Guide '' newspaper .</td>\n",
              "      <td>Baako had four children , one of whom was Kweku Baako Jnr , a journalist and editor of the newspaper `` New Crusading Guide '' .</td>\n",
              "      <td>0</td>\n",
              "    </tr>\n",
              "    <tr>\n",
              "      <th>3</th>\n",
              "      <td>3</td>\n",
              "      <td>As with the Navy , the Army has a single-track system , where officers from other Navy communities transfer over to Foreign Area Officer permanently .</td>\n",
              "      <td>Like the army , the Navy has a single-track system , where officers from other Navy communities permanently transfer to Foreign Area Officer .</td>\n",
              "      <td>0</td>\n",
              "    </tr>\n",
              "    <tr>\n",
              "      <th>4</th>\n",
              "      <td>4</td>\n",
              "      <td>Sissi units have fewer crew served weapons and more sniper rifles than regular infantry .</td>\n",
              "      <td>Sissi units have more weapons served by the crew and fewer sniper rifles than regular infantry .</td>\n",
              "      <td>0</td>\n",
              "    </tr>\n",
              "  </tbody>\n",
              "</table>\n",
              "</div>\n",
              "      <button class=\"colab-df-convert\" onclick=\"convertToInteractive('df-a8809d2b-d9ad-4f76-9a6c-a82cffdb2ad2')\"\n",
              "              title=\"Convert this dataframe to an interactive table.\"\n",
              "              style=\"display:none;\">\n",
              "        \n",
              "  <svg xmlns=\"http://www.w3.org/2000/svg\" height=\"24px\"viewBox=\"0 0 24 24\"\n",
              "       width=\"24px\">\n",
              "    <path d=\"M0 0h24v24H0V0z\" fill=\"none\"/>\n",
              "    <path d=\"M18.56 5.44l.94 2.06.94-2.06 2.06-.94-2.06-.94-.94-2.06-.94 2.06-2.06.94zm-11 1L8.5 8.5l.94-2.06 2.06-.94-2.06-.94L8.5 2.5l-.94 2.06-2.06.94zm10 10l.94 2.06.94-2.06 2.06-.94-2.06-.94-.94-2.06-.94 2.06-2.06.94z\"/><path d=\"M17.41 7.96l-1.37-1.37c-.4-.4-.92-.59-1.43-.59-.52 0-1.04.2-1.43.59L10.3 9.45l-7.72 7.72c-.78.78-.78 2.05 0 2.83L4 21.41c.39.39.9.59 1.41.59.51 0 1.02-.2 1.41-.59l7.78-7.78 2.81-2.81c.8-.78.8-2.07 0-2.86zM5.41 20L4 18.59l7.72-7.72 1.47 1.35L5.41 20z\"/>\n",
              "  </svg>\n",
              "      </button>\n",
              "      \n",
              "  <style>\n",
              "    .colab-df-container {\n",
              "      display:flex;\n",
              "      flex-wrap:wrap;\n",
              "      gap: 12px;\n",
              "    }\n",
              "\n",
              "    .colab-df-convert {\n",
              "      background-color: #E8F0FE;\n",
              "      border: none;\n",
              "      border-radius: 50%;\n",
              "      cursor: pointer;\n",
              "      display: none;\n",
              "      fill: #1967D2;\n",
              "      height: 32px;\n",
              "      padding: 0 0 0 0;\n",
              "      width: 32px;\n",
              "    }\n",
              "\n",
              "    .colab-df-convert:hover {\n",
              "      background-color: #E2EBFA;\n",
              "      box-shadow: 0px 1px 2px rgba(60, 64, 67, 0.3), 0px 1px 3px 1px rgba(60, 64, 67, 0.15);\n",
              "      fill: #174EA6;\n",
              "    }\n",
              "\n",
              "    [theme=dark] .colab-df-convert {\n",
              "      background-color: #3B4455;\n",
              "      fill: #D2E3FC;\n",
              "    }\n",
              "\n",
              "    [theme=dark] .colab-df-convert:hover {\n",
              "      background-color: #434B5C;\n",
              "      box-shadow: 0px 1px 3px 1px rgba(0, 0, 0, 0.15);\n",
              "      filter: drop-shadow(0px 1px 2px rgba(0, 0, 0, 0.3));\n",
              "      fill: #FFFFFF;\n",
              "    }\n",
              "  </style>\n",
              "\n",
              "      <script>\n",
              "        const buttonEl =\n",
              "          document.querySelector('#df-a8809d2b-d9ad-4f76-9a6c-a82cffdb2ad2 button.colab-df-convert');\n",
              "        buttonEl.style.display =\n",
              "          google.colab.kernel.accessAllowed ? 'block' : 'none';\n",
              "\n",
              "        async function convertToInteractive(key) {\n",
              "          const element = document.querySelector('#df-a8809d2b-d9ad-4f76-9a6c-a82cffdb2ad2');\n",
              "          const dataTable =\n",
              "            await google.colab.kernel.invokeFunction('convertToInteractive',\n",
              "                                                     [key], {});\n",
              "          if (!dataTable) return;\n",
              "\n",
              "          const docLinkHtml = 'Like what you see? Visit the ' +\n",
              "            '<a target=\"_blank\" href=https://colab.research.google.com/notebooks/data_table.ipynb>data table notebook</a>'\n",
              "            + ' to learn more about interactive tables.';\n",
              "          element.innerHTML = '';\n",
              "          dataTable['output_type'] = 'display_data';\n",
              "          await google.colab.output.renderOutput(dataTable, element);\n",
              "          const docLink = document.createElement('div');\n",
              "          docLink.innerHTML = docLinkHtml;\n",
              "          element.appendChild(docLink);\n",
              "        }\n",
              "      </script>\n",
              "    </div>\n",
              "  </div>\n",
              "  "
            ],
            "text/plain": [
              "   ID  \\\n",
              "0  0    \n",
              "1  1    \n",
              "2  2    \n",
              "3  3    \n",
              "4  4    \n",
              "\n",
              "                                                                                                                                                           Sentence1  \\\n",
              "0  But instead of returning to heaven , Annie decided to join Chris in hell forever .                                                                                  \n",
              "1  In 2016 , Bacardi announced new branding and plans to sell their version of Havana Club nationally , which will be burned in Florida and bottled in Puerto Rico .   \n",
              "2  Kweku Baako Jnr had four children . One of them , Baako is a journalist and editor of the `` New Crusading Guide '' newspaper .                                     \n",
              "3  As with the Navy , the Army has a single-track system , where officers from other Navy communities transfer over to Foreign Area Officer permanently .              \n",
              "4  Sissi units have fewer crew served weapons and more sniper rifles than regular infantry .                                                                           \n",
              "\n",
              "                                                                                                                                                              Sentence2  \\\n",
              "0  But instead of returning to Heaven , Chris chooses to join Annie forever in Hell .                                                                                     \n",
              "1  In 2016 , Bacardi announced new branding and plans to sell their version of Havana Club nationally , which will be distilled in Puerto Rico and bottled in Florida .   \n",
              "2  Baako had four children , one of whom was Kweku Baako Jnr , a journalist and editor of the newspaper `` New Crusading Guide '' .                                       \n",
              "3  Like the army , the Navy has a single-track system , where officers from other Navy communities permanently transfer to Foreign Area Officer .                         \n",
              "4  Sissi units have more weapons served by the crew and fewer sniper rifles than regular infantry .                                                                       \n",
              "\n",
              "   Class  \n",
              "0  0      \n",
              "1  0      \n",
              "2  0      \n",
              "3  0      \n",
              "4  0      "
            ]
          },
          "execution_count": 32,
          "metadata": {},
          "output_type": "execute_result"
        }
      ],
      "source": [
        "# Load the dataset\n",
        "df = pd.read_csv('train1.csv')\n",
        "pd.set_option('display.max_colwidth',-1)\n",
        "df.head()"
      ]
    },
    {
      "cell_type": "code",
      "execution_count": null,
      "metadata": {
        "colab": {
          "base_uri": "https://localhost:8080/",
          "height": 493
        },
        "id": "sLeVR2bGkZwC",
        "outputId": "6672184d-ac17-4168-dc93-84bfff308262"
      },
      "outputs": [
        {
          "data": {
            "text/html": [
              "\n",
              "  <div id=\"df-26872db0-7472-481a-bd4e-fec19cd15542\">\n",
              "    <div class=\"colab-df-container\">\n",
              "      <div>\n",
              "<style scoped>\n",
              "    .dataframe tbody tr th:only-of-type {\n",
              "        vertical-align: middle;\n",
              "    }\n",
              "\n",
              "    .dataframe tbody tr th {\n",
              "        vertical-align: top;\n",
              "    }\n",
              "\n",
              "    .dataframe thead th {\n",
              "        text-align: right;\n",
              "    }\n",
              "</style>\n",
              "<table border=\"1\" class=\"dataframe\">\n",
              "  <thead>\n",
              "    <tr style=\"text-align: right;\">\n",
              "      <th></th>\n",
              "      <th>ID</th>\n",
              "      <th>Sentence1</th>\n",
              "      <th>Sentence2</th>\n",
              "      <th>Class</th>\n",
              "    </tr>\n",
              "  </thead>\n",
              "  <tbody>\n",
              "    <tr>\n",
              "      <th>6996</th>\n",
              "      <td>6996</td>\n",
              "      <td>The 1912 - 13 season was Manchester United 's sixth season in the Football League and 21st in the First Division .</td>\n",
              "      <td>The season 1912 -- 13 was the 21st season of Manchester United in the Football League and the sixth in the First Division .</td>\n",
              "      <td>0</td>\n",
              "    </tr>\n",
              "    <tr>\n",
              "      <th>6997</th>\n",
              "      <td>6997</td>\n",
              "      <td>Aaron Levie was born to a small family from Mercer Island , a Jewish suburb of Seattle , Washington , DC .</td>\n",
              "      <td>Aaron Levie was born to a small family from Mercer Island , a Jewish suburb of Seattle , Washington .</td>\n",
              "      <td>1</td>\n",
              "    </tr>\n",
              "    <tr>\n",
              "      <th>6998</th>\n",
              "      <td>6998</td>\n",
              "      <td>Wal-Mart said it would check all of its million-plus domestic workers to ensure they were legally employed.</td>\n",
              "      <td>It has also said it would review all of its domestic employees more than 1 million to ensure they have legal status.\\n</td>\n",
              "      <td>1</td>\n",
              "    </tr>\n",
              "    <tr>\n",
              "      <th>6999</th>\n",
              "      <td>6999</td>\n",
              "      <td>She moved from Finland to Estonia with her parents at the age of 3 and currently resides in Helsinki .</td>\n",
              "      <td>She moved to Estonia from Finland with her parents at the age of 3 years and is currently living in Helsinki .</td>\n",
              "      <td>1</td>\n",
              "    </tr>\n",
              "    <tr>\n",
              "      <th>7000</th>\n",
              "      <td>7000</td>\n",
              "      <td>The paper reports on business , politics , developments in corporate and labour law , commercial news and features .</td>\n",
              "      <td>The newspaper reports on business , politics , developments in corporate and labour law , commercial news and features .</td>\n",
              "      <td>1</td>\n",
              "    </tr>\n",
              "  </tbody>\n",
              "</table>\n",
              "</div>\n",
              "      <button class=\"colab-df-convert\" onclick=\"convertToInteractive('df-26872db0-7472-481a-bd4e-fec19cd15542')\"\n",
              "              title=\"Convert this dataframe to an interactive table.\"\n",
              "              style=\"display:none;\">\n",
              "        \n",
              "  <svg xmlns=\"http://www.w3.org/2000/svg\" height=\"24px\"viewBox=\"0 0 24 24\"\n",
              "       width=\"24px\">\n",
              "    <path d=\"M0 0h24v24H0V0z\" fill=\"none\"/>\n",
              "    <path d=\"M18.56 5.44l.94 2.06.94-2.06 2.06-.94-2.06-.94-.94-2.06-.94 2.06-2.06.94zm-11 1L8.5 8.5l.94-2.06 2.06-.94-2.06-.94L8.5 2.5l-.94 2.06-2.06.94zm10 10l.94 2.06.94-2.06 2.06-.94-2.06-.94-.94-2.06-.94 2.06-2.06.94z\"/><path d=\"M17.41 7.96l-1.37-1.37c-.4-.4-.92-.59-1.43-.59-.52 0-1.04.2-1.43.59L10.3 9.45l-7.72 7.72c-.78.78-.78 2.05 0 2.83L4 21.41c.39.39.9.59 1.41.59.51 0 1.02-.2 1.41-.59l7.78-7.78 2.81-2.81c.8-.78.8-2.07 0-2.86zM5.41 20L4 18.59l7.72-7.72 1.47 1.35L5.41 20z\"/>\n",
              "  </svg>\n",
              "      </button>\n",
              "      \n",
              "  <style>\n",
              "    .colab-df-container {\n",
              "      display:flex;\n",
              "      flex-wrap:wrap;\n",
              "      gap: 12px;\n",
              "    }\n",
              "\n",
              "    .colab-df-convert {\n",
              "      background-color: #E8F0FE;\n",
              "      border: none;\n",
              "      border-radius: 50%;\n",
              "      cursor: pointer;\n",
              "      display: none;\n",
              "      fill: #1967D2;\n",
              "      height: 32px;\n",
              "      padding: 0 0 0 0;\n",
              "      width: 32px;\n",
              "    }\n",
              "\n",
              "    .colab-df-convert:hover {\n",
              "      background-color: #E2EBFA;\n",
              "      box-shadow: 0px 1px 2px rgba(60, 64, 67, 0.3), 0px 1px 3px 1px rgba(60, 64, 67, 0.15);\n",
              "      fill: #174EA6;\n",
              "    }\n",
              "\n",
              "    [theme=dark] .colab-df-convert {\n",
              "      background-color: #3B4455;\n",
              "      fill: #D2E3FC;\n",
              "    }\n",
              "\n",
              "    [theme=dark] .colab-df-convert:hover {\n",
              "      background-color: #434B5C;\n",
              "      box-shadow: 0px 1px 3px 1px rgba(0, 0, 0, 0.15);\n",
              "      filter: drop-shadow(0px 1px 2px rgba(0, 0, 0, 0.3));\n",
              "      fill: #FFFFFF;\n",
              "    }\n",
              "  </style>\n",
              "\n",
              "      <script>\n",
              "        const buttonEl =\n",
              "          document.querySelector('#df-26872db0-7472-481a-bd4e-fec19cd15542 button.colab-df-convert');\n",
              "        buttonEl.style.display =\n",
              "          google.colab.kernel.accessAllowed ? 'block' : 'none';\n",
              "\n",
              "        async function convertToInteractive(key) {\n",
              "          const element = document.querySelector('#df-26872db0-7472-481a-bd4e-fec19cd15542');\n",
              "          const dataTable =\n",
              "            await google.colab.kernel.invokeFunction('convertToInteractive',\n",
              "                                                     [key], {});\n",
              "          if (!dataTable) return;\n",
              "\n",
              "          const docLinkHtml = 'Like what you see? Visit the ' +\n",
              "            '<a target=\"_blank\" href=https://colab.research.google.com/notebooks/data_table.ipynb>data table notebook</a>'\n",
              "            + ' to learn more about interactive tables.';\n",
              "          element.innerHTML = '';\n",
              "          dataTable['output_type'] = 'display_data';\n",
              "          await google.colab.output.renderOutput(dataTable, element);\n",
              "          const docLink = document.createElement('div');\n",
              "          docLink.innerHTML = docLinkHtml;\n",
              "          element.appendChild(docLink);\n",
              "        }\n",
              "      </script>\n",
              "    </div>\n",
              "  </div>\n",
              "  "
            ],
            "text/plain": [
              "        ID  \\\n",
              "6996  6996   \n",
              "6997  6997   \n",
              "6998  6998   \n",
              "6999  6999   \n",
              "7000  7000   \n",
              "\n",
              "                                                                                                                 Sentence1  \\\n",
              "6996  The 1912 - 13 season was Manchester United 's sixth season in the Football League and 21st in the First Division .     \n",
              "6997  Aaron Levie was born to a small family from Mercer Island , a Jewish suburb of Seattle , Washington , DC .             \n",
              "6998  Wal-Mart said it would check all of its million-plus domestic workers to ensure they were legally employed.            \n",
              "6999  She moved from Finland to Estonia with her parents at the age of 3 and currently resides in Helsinki .                 \n",
              "7000  The paper reports on business , politics , developments in corporate and labour law , commercial news and features .   \n",
              "\n",
              "                                                                                                                        Sentence2  \\\n",
              "6996  The season 1912 -- 13 was the 21st season of Manchester United in the Football League and the sixth in the First Division .   \n",
              "6997  Aaron Levie was born to a small family from Mercer Island , a Jewish suburb of Seattle , Washington .                         \n",
              "6998  It has also said it would review all of its domestic employees more than 1 million to ensure they have legal status.\\n        \n",
              "6999  She moved to Estonia from Finland with her parents at the age of 3 years and is currently living in Helsinki .                \n",
              "7000  The newspaper reports on business , politics , developments in corporate and labour law , commercial news and features .      \n",
              "\n",
              "      Class  \n",
              "6996  0      \n",
              "6997  1      \n",
              "6998  1      \n",
              "6999  1      \n",
              "7000  1      "
            ]
          },
          "execution_count": 33,
          "metadata": {},
          "output_type": "execute_result"
        }
      ],
      "source": [
        "df.tail()"
      ]
    },
    {
      "cell_type": "code",
      "execution_count": null,
      "metadata": {
        "colab": {
          "base_uri": "https://localhost:8080/"
        },
        "id": "mBycxPG5kpNZ",
        "outputId": "57b42f2d-ab4d-4b45-9b35-d526dcf5d435"
      },
      "outputs": [
        {
          "data": {
            "text/plain": [
              "(7001, 4)"
            ]
          },
          "execution_count": 34,
          "metadata": {},
          "output_type": "execute_result"
        }
      ],
      "source": [
        "df.shape"
      ]
    },
    {
      "cell_type": "code",
      "execution_count": null,
      "metadata": {
        "id": "NXpTP83Mj10V"
      },
      "outputs": [],
      "source": [
        "# Preprocess the text data\n",
        "stop_words = set(stopwords.words('english'))\n",
        "stemmer = SnowballStemmer('english')\n",
        "df['Sentence1'] = df['Sentence1'].apply(lambda x: ' '.join([stemmer.stem(word.lower()) for word in x.split() if word.lower() not in stop_words]))\n",
        "df['Sentence2'] = df['Sentence2'].apply(lambda x: ' '.join([stemmer.stem(word.lower()) for word in x.split() if word.lower() not in stop_words]))"
      ]
    },
    {
      "cell_type": "code",
      "execution_count": null,
      "metadata": {
        "id": "v6603nS6hJms"
      },
      "outputs": [],
      "source": [
        "# Split the dataset into training and testing sets\n",
        "train_size = int(len(df) * 0.8)\n",
        "train_data = df[:train_size]\n",
        "test_data = df[train_size:]"
      ]
    },
    {
      "cell_type": "code",
      "execution_count": null,
      "metadata": {
        "id": "8QzYSa_thfWW"
      },
      "outputs": [],
      "source": [
        "# Tokenize the text data\n",
        "tokenizer = Tokenizer(num_words=5000)\n",
        "tokenizer.fit_on_texts(train_data['Sentence1'])\n",
        "\n",
        "X_train = tokenizer.texts_to_sequences(train_data['Sentence1'])\n",
        "X_train = pad_sequences(X_train, maxlen=100)\n",
        "\n",
        "X_test = tokenizer.texts_to_sequences(test_data['Sentence1'])\n",
        "X_test = pad_sequences(X_test, maxlen=100)"
      ]
    },
    {
      "cell_type": "code",
      "execution_count": null,
      "metadata": {
        "id": "OMkJLBImmZf0"
      },
      "outputs": [],
      "source": [
        "# Define the LSTM model architecture\n",
        "model = Sequential()\n",
        "model.add(Embedding(5000, 128, input_length=100))\n",
        "model.add(LSTM(128))\n",
        "model.add(Dense(1, activation='sigmoid'))"
      ]
    },
    {
      "cell_type": "code",
      "execution_count": null,
      "metadata": {
        "colab": {
          "background_save": true,
          "base_uri": "https://localhost:8080/"
        },
        "id": "clhARVkCmcqo",
        "outputId": "cd8c7d46-f304-47ab-f190-e15ad3bda896"
      },
      "outputs": [
        {
          "name": "stdout",
          "output_type": "stream",
          "text": [
            "Epoch 1/10\n",
            "88/88 [==============================] - 30s 314ms/step - loss: 0.6890 - accuracy: 0.5520 - val_loss: 0.6848 - val_accuracy: 0.5632\n",
            "Epoch 2/10\n",
            "88/88 [==============================] - 27s 306ms/step - loss: 0.6377 - accuracy: 0.6405 - val_loss: 0.7174 - val_accuracy: 0.5432\n",
            "Epoch 3/10\n",
            "88/88 [==============================] - 27s 309ms/step - loss: 0.4934 - accuracy: 0.7691 - val_loss: 0.8325 - val_accuracy: 0.5289\n",
            "Epoch 4/10\n",
            "88/88 [==============================] - 26s 300ms/step - loss: 0.3703 - accuracy: 0.8357 - val_loss: 0.9974 - val_accuracy: 0.5225\n",
            "Epoch 5/10\n",
            "88/88 [==============================] - 27s 308ms/step - loss: 0.2794 - accuracy: 0.8786 - val_loss: 1.1598 - val_accuracy: 0.5346\n",
            "Epoch 6/10\n",
            "88/88 [==============================] - 27s 304ms/step - loss: 0.2243 - accuracy: 0.9107 - val_loss: 1.2946 - val_accuracy: 0.5268\n",
            "Epoch 7/10\n",
            "88/88 [==============================] - 26s 296ms/step - loss: 0.1821 - accuracy: 0.9307 - val_loss: 1.5267 - val_accuracy: 0.5218\n",
            "Epoch 8/10\n",
            "88/88 [==============================] - 28s 321ms/step - loss: 0.1558 - accuracy: 0.9368 - val_loss: 1.6777 - val_accuracy: 0.5153\n",
            "Epoch 9/10\n",
            "88/88 [==============================] - 28s 317ms/step - loss: 0.1344 - accuracy: 0.9413 - val_loss: 1.6834 - val_accuracy: 0.5225\n",
            "Epoch 10/10\n",
            "88/88 [==============================] - 26s 293ms/step - loss: 0.1101 - accuracy: 0.9507 - val_loss: 2.1543 - val_accuracy: 0.5275\n",
            "44/44 [==============================] - 3s 56ms/step - loss: 2.1543 - accuracy: 0.5275\n"
          ]
        }
      ],
      "source": [
        "# Compile the model\n",
        "model.compile(loss='binary_crossentropy', optimizer='adam', metrics=['accuracy'])\n",
        "\n",
        "# Train the model\n",
        "model.fit(X_train, train_data['Class'], batch_size=64, epochs=10, validation_data=(X_test, test_data['Class']))\n",
        "\n",
        "# Evaluate the model\n",
        "loss, accuracy = model.evaluate(X_test, test_data['Class'])"
      ]
    },
    {
      "cell_type": "markdown",
      "metadata": {
        "id": "XYiU5FMCjIqf"
      },
      "source": [
        "###Example:When there is paraphrase detection"
      ]
    },
    {
      "cell_type": "code",
      "execution_count": null,
      "metadata": {
        "colab": {
          "base_uri": "https://localhost:8080/"
        },
        "id": "t_mZgD-BerwF",
        "outputId": "e5a7ec44-cfd6-4cd0-d7a2-3e29183e30b3"
      },
      "outputs": [
        {
          "name": "stdout",
          "output_type": "stream",
          "text": [
            "1/1 [==============================] - 0s 34ms/step\n",
            "[[0.9997638 ]\n",
            " [0.04912408]]\n"
          ]
        }
      ],
      "source": [
        "new_text = [\"A barometer and a built-in scale are shown in this room .\", \"In this room are presented a barometer and a built-in scale .\"]\n",
        "new_text = tokenizer.texts_to_sequences(new_text)\n",
        "new_text = pad_sequences(new_text, maxlen=100)\n",
        "prediction = model.predict(new_text)\n",
        "print(prediction)"
      ]
    },
    {
      "cell_type": "markdown",
      "metadata": {
        "id": "g87-wxHajsSI"
      },
      "source": []
    },
    {
      "cell_type": "markdown",
      "metadata": {
        "id": "BAg-97oTjsOx"
      },
      "source": []
    },
    {
      "cell_type": "markdown",
      "metadata": {
        "id": "DfUQ8jcSjjU9"
      },
      "source": [
        "###Example2: When there is no paraphrase detection"
      ]
    },
    {
      "cell_type": "code",
      "execution_count": null,
      "metadata": {
        "colab": {
          "base_uri": "https://localhost:8080/"
        },
        "id": "Od9f3bBzh8do",
        "outputId": "5d71b0eb-9cb1-4f40-ee6f-420502a21078"
      },
      "outputs": [
        {
          "output_type": "stream",
          "name": "stdout",
          "text": [
            "1/1 [==============================] - 0s 422ms/step\n",
            "[[0.20021057]\n",
            " [0.08208778]]\n"
          ]
        }
      ],
      "source": [
        "new_text = [\"How do I file for bankruptcy?\", \"Can you file for bankruptcy twice?\"]\n",
        "new_text = tokenizer.texts_to_sequences(new_text)\n",
        "new_text = pad_sequences(new_text, maxlen=100)\n",
        "prediction = model.predict(new_text)\n",
        "print(prediction)"
      ]
    }
  ],
  "metadata": {
    "colab": {
      "provenance": []
    },
    "kernelspec": {
      "display_name": "Python 3",
      "name": "python3"
    },
    "language_info": {
      "name": "python"
    }
  },
  "nbformat": 4,
  "nbformat_minor": 0
}